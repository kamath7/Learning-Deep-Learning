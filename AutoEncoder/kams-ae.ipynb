{
 "cells": [
  {
   "cell_type": "code",
   "execution_count": 1,
   "metadata": {},
   "outputs": [],
   "source": [
    "import numpy as np\n",
    "import pandas as pd\n",
    "import torch\n",
    "import torch.nn as nn\n",
    "import torch.nn.parallel\n",
    "import torch.optim as optim\n",
    "import torch.utils.data\n",
    "from torch.autograd import Variable"
   ]
  },
  {
   "cell_type": "code",
   "execution_count": 2,
   "metadata": {},
   "outputs": [],
   "source": [
    "#Importing dataset\n",
    "movies = pd.read_csv('ml-1m/movies.dat',sep='::',header=None, engine='python', encoding='latin-1')\n",
    "users = pd.read_csv('ml-1m/users.dat',sep='::',header=None, engine='python', encoding='latin-1')\n",
    "ratings = pd.read_csv('ml-1m/ratings.dat',sep='::',header=None, engine='python', encoding='latin-1')"
   ]
  },
  {
   "cell_type": "code",
   "execution_count": 3,
   "metadata": {},
   "outputs": [],
   "source": [
    "#Creating training and test set\n",
    "training_set = pd.read_csv('ml-100k/u1.base',delimiter='\\t')\n",
    "training_set = np.array(training_set,dtype='int')\n",
    "\n",
    "test_set = pd.read_csv('ml-100k/u1.test',delimiter='\\t')\n",
    "test_set = np.array(test_set,dtype='int')"
   ]
  },
  {
   "cell_type": "code",
   "execution_count": 4,
   "metadata": {},
   "outputs": [],
   "source": [
    "#Number of users and movies\n",
    "nb_users = max(max(training_set[:,0]), max(test_set[:,0]))\n",
    "nb_movies = max(max(training_set[:,1]), max(test_set[:,1]))"
   ]
  },
  {
   "cell_type": "code",
   "execution_count": 5,
   "metadata": {},
   "outputs": [],
   "source": [
    "#Converting data to array with users in lines and moviews in columns\n",
    "def convert(data):\n",
    "    new_data = []\n",
    "    for id_users in range(1, nb_users+1):\n",
    "        id_movies = data[:,1][data[:,0]==id_users]\n",
    "        id_ratings = data[:,2][data[:,0]==id_users]\n",
    "        ratings = np.zeros(nb_movies)\n",
    "        ratings[id_movies - 1] =id_ratings\n",
    "        new_data.append(list(ratings))\n",
    "    return new_data\n",
    "\n",
    "training_set = convert(training_set)\n",
    "test_set = convert(test_set)"
   ]
  },
  {
   "cell_type": "code",
   "execution_count": 6,
   "metadata": {},
   "outputs": [],
   "source": [
    "#Converting to torch tensors\n",
    "training_set = torch.FloatTensor(training_set)\n",
    "test_set = torch.FloatTensor(test_set)\n"
   ]
  },
  {
   "cell_type": "code",
   "execution_count": 7,
   "metadata": {},
   "outputs": [],
   "source": [
    "#Creating a AE class\n",
    "class SAE(nn.Module):\n",
    "    \n",
    "    def __init__(self, ):\n",
    "        super(SAE, self).__init__()\n",
    "        self.fc1 = nn.Linear(nb_movies, 20) #Getting 20 hidden features\n",
    "        self.fc2 = nn.Linear(20,10) #This is similar to neurons added in DL\n",
    "        self.fc3 = nn.Linear(10,20)\n",
    "        self.fc4 = nn.Linear(20,nb_movies)\n",
    "        self.activation = nn.Sigmoid()\n",
    "    \n",
    "    def forward(self,x):\n",
    "        x= self.activation(self.fc1(x))\n",
    "        x= self.activation(self.fc2(x))\n",
    "        x= self.activation(self.fc3(x))\n",
    "        x = self.fc4(x)\n",
    "        return x        "
   ]
  },
  {
   "cell_type": "code",
   "execution_count": 8,
   "metadata": {},
   "outputs": [],
   "source": [
    "sae = SAE()"
   ]
  },
  {
   "cell_type": "code",
   "execution_count": 9,
   "metadata": {},
   "outputs": [],
   "source": [
    "criterion = nn.MSELoss()\n",
    "optimizer = optim.RMSprop(sae.parameters(), lr=0.01, weight_decay = 0.5)"
   ]
  },
  {
   "cell_type": "code",
   "execution_count": null,
   "metadata": {},
   "outputs": [
    {
     "name": "stdout",
     "output_type": "stream",
     "text": [
      "epoch: 1loss: tensor(1.7717)\n",
      "epoch: 2loss: tensor(1.0966)\n",
      "epoch: 3loss: tensor(1.0533)\n",
      "epoch: 4loss: tensor(1.0385)\n",
      "epoch: 5loss: tensor(1.0309)\n",
      "epoch: 6loss: tensor(1.0265)\n",
      "epoch: 7loss: tensor(1.0237)\n",
      "epoch: 8loss: tensor(1.0219)\n",
      "epoch: 9loss: tensor(1.0207)\n",
      "epoch: 10loss: tensor(1.0196)\n",
      "epoch: 11loss: tensor(1.0191)\n",
      "epoch: 12loss: tensor(1.0184)\n",
      "epoch: 13loss: tensor(1.0178)\n",
      "epoch: 14loss: tensor(1.0172)\n",
      "epoch: 15loss: tensor(1.0173)\n",
      "epoch: 16loss: tensor(1.0167)\n",
      "epoch: 17loss: tensor(1.0166)\n",
      "epoch: 18loss: tensor(1.0164)\n",
      "epoch: 19loss: tensor(1.0163)\n",
      "epoch: 20loss: tensor(1.0161)\n",
      "epoch: 21loss: tensor(1.0160)\n",
      "epoch: 22loss: tensor(1.0161)\n",
      "epoch: 23loss: tensor(1.0157)\n",
      "epoch: 24loss: tensor(1.0157)\n",
      "epoch: 25loss: tensor(1.0157)\n",
      "epoch: 26loss: tensor(1.0154)\n",
      "epoch: 27loss: tensor(1.0153)\n",
      "epoch: 28loss: tensor(1.0147)\n",
      "epoch: 29loss: tensor(1.0129)\n",
      "epoch: 30loss: tensor(1.0116)\n",
      "epoch: 31loss: tensor(1.0093)\n",
      "epoch: 32loss: tensor(1.0094)\n",
      "epoch: 33loss: tensor(1.0051)\n",
      "epoch: 34loss: tensor(1.0044)\n",
      "epoch: 35loss: tensor(1.0003)\n",
      "epoch: 36loss: tensor(1.0000)\n",
      "epoch: 37loss: tensor(0.9963)\n",
      "epoch: 38loss: tensor(0.9970)\n",
      "epoch: 39loss: tensor(0.9944)\n"
     ]
    }
   ],
   "source": [
    "#Training SAE\n",
    "nb_epoch = 200\n",
    "for epoch in range(1, nb_epoch + 1):\n",
    "  train_loss = 0\n",
    "  s = 0.\n",
    "  for id_user in range(nb_users):\n",
    "    input = Variable(training_set[id_user]).unsqueeze(0)\n",
    "    target = input.clone()\n",
    "    if torch.sum(target.data > 0) > 0:\n",
    "      output = sae(input)\n",
    "      target.require_grad = False\n",
    "      output[target == 0] = 0\n",
    "      loss = criterion(output, target)\n",
    "      mean_corrector = nb_movies/float(torch.sum(target.data > 0) + 1e-10)\n",
    "      loss.backward()\n",
    "      train_loss += np.sqrt(loss.data*mean_corrector)\n",
    "      s += 1.\n",
    "      optimizer.step()\n",
    "  print('epoch: '+str(epoch)+'loss: '+ str(train_loss/s))\n",
    "            "
   ]
  },
  {
   "cell_type": "code",
   "execution_count": null,
   "metadata": {},
   "outputs": [],
   "source": []
  }
 ],
 "metadata": {
  "kernelspec": {
   "display_name": "Python 3",
   "language": "python",
   "name": "python3"
  },
  "language_info": {
   "codemirror_mode": {
    "name": "ipython",
    "version": 3
   },
   "file_extension": ".py",
   "mimetype": "text/x-python",
   "name": "python",
   "nbconvert_exporter": "python",
   "pygments_lexer": "ipython3",
   "version": "3.8.0"
  }
 },
 "nbformat": 4,
 "nbformat_minor": 4
}
