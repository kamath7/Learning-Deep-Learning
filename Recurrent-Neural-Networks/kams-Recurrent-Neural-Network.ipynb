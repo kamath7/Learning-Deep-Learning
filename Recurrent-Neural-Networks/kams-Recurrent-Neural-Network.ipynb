{
 "cells": [
  {
   "cell_type": "code",
   "execution_count": 1,
   "metadata": {},
   "outputs": [],
   "source": [
    "import tensorflow as tf\n",
    "import numpy as np\n",
    "import pandas as pd\n",
    "import matplotlib.pyplot as plt\n",
    "import os \n",
    "os.environ['CUDA_VISIBLE_DEVICES'] = '-1'"
   ]
  },
  {
   "cell_type": "code",
   "execution_count": 2,
   "metadata": {},
   "outputs": [],
   "source": [
    "#Predicting Google's stock price\n",
    "dataset_train = pd.read_csv('Google_Stock_Price_Train.csv')\n",
    "training_set = dataset_train.iloc[:, 1:2].values"
   ]
  },
  {
   "cell_type": "code",
   "execution_count": 3,
   "metadata": {},
   "outputs": [],
   "source": [
    "#Feature Scaling\n",
    "#Normalising it\n",
    "from sklearn.preprocessing import MinMaxScaler\n",
    "sc = MinMaxScaler(feature_range=(0,1))\n",
    "training_set_scaled = sc.fit_transform(training_set)"
   ]
  },
  {
   "cell_type": "code",
   "execution_count": 4,
   "metadata": {},
   "outputs": [],
   "source": [
    "#creating a structure with 60 timesteps and 1 output. Looking at 60 previous values\n",
    "#X-train will contain 60 stock prices. y_train will contain 1 day after that\n",
    "X_train = []\n",
    "y_train = []\n",
    "for i in range(60,1258):\n",
    "    X_train.append(training_set_scaled[i-60:i,0])\n",
    "    y_train.append(training_set_scaled[i,0])\n",
    "X_train, y_train = np.array(X_train), np.array(y_train)"
   ]
  },
  {
   "cell_type": "code",
   "execution_count": 5,
   "metadata": {},
   "outputs": [],
   "source": [
    "#Reshaping it\n",
    "X_train = np.reshape(X_train, (X_train.shape[0], X_train.shape[1], 1))#adding a dimension for indicator"
   ]
  },
  {
   "cell_type": "code",
   "execution_count": 6,
   "metadata": {},
   "outputs": [],
   "source": [
    "from keras.models import Sequential\n",
    "from keras.layers import Dense\n",
    "from keras.layers import LSTM\n",
    "from keras.layers import Dropout"
   ]
  },
  {
   "cell_type": "code",
   "execution_count": 7,
   "metadata": {},
   "outputs": [],
   "source": [
    "#Initialising RNN\n",
    "regressor = Sequential()"
   ]
  },
  {
   "cell_type": "code",
   "execution_count": 8,
   "metadata": {},
   "outputs": [],
   "source": [
    "# Adding first lstm layer and regularisation(Dropout)\n",
    "\n",
    "regressor.add(LSTM(units = 50, return_sequences=True, input_shape=(X_train.shape[1], 1))) #return_sequences set to true for stacked LSTM layers\n",
    "regressor.add(Dropout(0.2)) #Dropping 20% neurons in the layers"
   ]
  },
  {
   "cell_type": "code",
   "execution_count": 9,
   "metadata": {},
   "outputs": [],
   "source": [
    "#Adding second LSTM Layer with regularisation(Dropout)\n",
    "regressor.add(LSTM(units = 50, return_sequences=True)) #No need to add input layer since units automatically tells \n",
    "regressor.add(Dropout(0.2))"
   ]
  },
  {
   "cell_type": "code",
   "execution_count": 10,
   "metadata": {},
   "outputs": [],
   "source": [
    "#Adding third LSTM layer\n",
    "regressor.add(LSTM(units = 50, return_sequences=True))\n",
    "regressor.add(Dropout(0.2))"
   ]
  },
  {
   "cell_type": "code",
   "execution_count": 11,
   "metadata": {},
   "outputs": [],
   "source": [
    "#Adding fourth LSTM layer\n",
    "regressor.add(LSTM(units = 50)) #return_sequences to be removed since we are not returning anything else\n",
    "regressor.add(Dropout(0.2))"
   ]
  },
  {
   "cell_type": "code",
   "execution_count": 12,
   "metadata": {},
   "outputs": [],
   "source": [
    "#Op layer\n",
    "regressor.add(Dense(units=1))"
   ]
  },
  {
   "cell_type": "code",
   "execution_count": 13,
   "metadata": {},
   "outputs": [],
   "source": [
    "#Compile\n",
    "regressor.compile(optimizer='adam',loss='mean_squared_error')#can use rmsprop also as optimizer"
   ]
  },
  {
   "cell_type": "code",
   "execution_count": 14,
   "metadata": {},
   "outputs": [
    {
     "name": "stdout",
     "output_type": "stream",
     "text": [
      "Epoch 1/100\n",
      "38/38 [==============================] - 4s 105ms/step - loss: 0.0457\n",
      "Epoch 2/100\n",
      "38/38 [==============================] - 4s 110ms/step - loss: 0.0070\n",
      "Epoch 3/100\n",
      "38/38 [==============================] - 4s 109ms/step - loss: 0.0058\n",
      "Epoch 4/100\n",
      "38/38 [==============================] - 4s 110ms/step - loss: 0.0058\n",
      "Epoch 5/100\n",
      "38/38 [==============================] - 4s 111ms/step - loss: 0.0056\n",
      "Epoch 6/100\n",
      "38/38 [==============================] - 5s 128ms/step - loss: 0.0053\n",
      "Epoch 7/100\n",
      "38/38 [==============================] - 4s 110ms/step - loss: 0.0050\n",
      "Epoch 8/100\n",
      "38/38 [==============================] - 4s 103ms/step - loss: 0.0049\n",
      "Epoch 9/100\n",
      "38/38 [==============================] - 4s 107ms/step - loss: 0.0046\n",
      "Epoch 10/100\n",
      "38/38 [==============================] - 4s 110ms/step - loss: 0.0046\n",
      "Epoch 11/100\n",
      "38/38 [==============================] - 5s 127ms/step - loss: 0.0043\n",
      "Epoch 12/100\n",
      "38/38 [==============================] - 4s 115ms/step - loss: 0.0039\n",
      "Epoch 13/100\n",
      "38/38 [==============================] - 4s 117ms/step - loss: 0.0047\n",
      "Epoch 14/100\n",
      "38/38 [==============================] - 4s 118ms/step - loss: 0.0038\n",
      "Epoch 15/100\n",
      "38/38 [==============================] - 4s 113ms/step - loss: 0.0041\n",
      "Epoch 16/100\n",
      "38/38 [==============================] - 4s 112ms/step - loss: 0.0037\n",
      "Epoch 17/100\n",
      "38/38 [==============================] - 5s 122ms/step - loss: 0.0037\n",
      "Epoch 18/100\n",
      "38/38 [==============================] - 4s 118ms/step - loss: 0.0039\n",
      "Epoch 19/100\n",
      "38/38 [==============================] - 4s 108ms/step - loss: 0.0034\n",
      "Epoch 20/100\n",
      "38/38 [==============================] - 4s 116ms/step - loss: 0.0030\n",
      "Epoch 21/100\n",
      "38/38 [==============================] - 4s 108ms/step - loss: 0.0034\n",
      "Epoch 22/100\n",
      "38/38 [==============================] - 4s 108ms/step - loss: 0.0037\n",
      "Epoch 23/100\n",
      "38/38 [==============================] - 4s 110ms/step - loss: 0.0032\n",
      "Epoch 24/100\n",
      "38/38 [==============================] - 4s 114ms/step - loss: 0.0032\n",
      "Epoch 25/100\n",
      "38/38 [==============================] - 4s 113ms/step - loss: 0.0030\n",
      "Epoch 26/100\n",
      "38/38 [==============================] - 4s 106ms/step - loss: 0.0030\n",
      "Epoch 27/100\n",
      "38/38 [==============================] - 4s 106ms/step - loss: 0.0034\n",
      "Epoch 28/100\n",
      "38/38 [==============================] - 4s 107ms/step - loss: 0.0031\n",
      "Epoch 29/100\n",
      "38/38 [==============================] - 4s 108ms/step - loss: 0.0030\n",
      "Epoch 30/100\n",
      "38/38 [==============================] - 4s 110ms/step - loss: 0.0031\n",
      "Epoch 31/100\n",
      "38/38 [==============================] - 4s 109ms/step - loss: 0.0034\n",
      "Epoch 32/100\n",
      "38/38 [==============================] - 4s 106ms/step - loss: 0.0028\n",
      "Epoch 33/100\n",
      "38/38 [==============================] - 4s 106ms/step - loss: 0.0029\n",
      "Epoch 34/100\n",
      "38/38 [==============================] - 4s 115ms/step - loss: 0.0026\n",
      "Epoch 35/100\n",
      "38/38 [==============================] - 5s 123ms/step - loss: 0.0029\n",
      "Epoch 36/100\n",
      "38/38 [==============================] - 4s 107ms/step - loss: 0.0028\n",
      "Epoch 37/100\n",
      "38/38 [==============================] - 4s 107ms/step - loss: 0.0025\n",
      "Epoch 38/100\n",
      "38/38 [==============================] - 4s 107ms/step - loss: 0.0026\n",
      "Epoch 39/100\n",
      "38/38 [==============================] - 4s 109ms/step - loss: 0.0027\n",
      "Epoch 40/100\n",
      "38/38 [==============================] - 4s 112ms/step - loss: 0.0029\n",
      "Epoch 41/100\n",
      "38/38 [==============================] - 4s 113ms/step - loss: 0.0031\n",
      "Epoch 42/100\n",
      "38/38 [==============================] - 4s 114ms/step - loss: 0.0024\n",
      "Epoch 43/100\n",
      "38/38 [==============================] - 4s 106ms/step - loss: 0.0024\n",
      "Epoch 44/100\n",
      "38/38 [==============================] - 4s 107ms/step - loss: 0.0025\n",
      "Epoch 45/100\n",
      "38/38 [==============================] - 4s 108ms/step - loss: 0.0025\n",
      "Epoch 46/100\n",
      "38/38 [==============================] - 4s 108ms/step - loss: 0.0024\n",
      "Epoch 47/100\n",
      "38/38 [==============================] - 4s 106ms/step - loss: 0.0025\n",
      "Epoch 48/100\n",
      "38/38 [==============================] - 4s 109ms/step - loss: 0.0026\n",
      "Epoch 49/100\n",
      "38/38 [==============================] - 4s 108ms/step - loss: 0.0025\n",
      "Epoch 50/100\n",
      "38/38 [==============================] - 4s 106ms/step - loss: 0.0023\n",
      "Epoch 51/100\n",
      "38/38 [==============================] - 4s 107ms/step - loss: 0.0022\n",
      "Epoch 52/100\n",
      "38/38 [==============================] - 4s 108ms/step - loss: 0.0026\n",
      "Epoch 53/100\n",
      "38/38 [==============================] - 4s 106ms/step - loss: 0.0023\n",
      "Epoch 54/100\n",
      "38/38 [==============================] - 4s 110ms/step - loss: 0.0022\n",
      "Epoch 55/100\n",
      "38/38 [==============================] - 4s 107ms/step - loss: 0.0020\n",
      "Epoch 56/100\n",
      "38/38 [==============================] - 4s 107ms/step - loss: 0.0022\n",
      "Epoch 57/100\n",
      "38/38 [==============================] - 4s 105ms/step - loss: 0.0019\n",
      "Epoch 58/100\n",
      "38/38 [==============================] - 4s 107ms/step - loss: 0.0020\n",
      "Epoch 59/100\n",
      "38/38 [==============================] - 4s 108ms/step - loss: 0.0023\n",
      "Epoch 60/100\n",
      "38/38 [==============================] - 4s 106ms/step - loss: 0.0020\n",
      "Epoch 61/100\n",
      "38/38 [==============================] - 4s 107ms/step - loss: 0.0021\n",
      "Epoch 62/100\n",
      "38/38 [==============================] - 4s 109ms/step - loss: 0.0020\n",
      "Epoch 63/100\n",
      "38/38 [==============================] - 4s 108ms/step - loss: 0.0024\n",
      "Epoch 64/100\n",
      "38/38 [==============================] - 4s 114ms/step - loss: 0.0018\n",
      "Epoch 65/100\n",
      "38/38 [==============================] - 4s 108ms/step - loss: 0.0019\n",
      "Epoch 66/100\n",
      "38/38 [==============================] - 4s 107ms/step - loss: 0.0020\n",
      "Epoch 67/100\n",
      "38/38 [==============================] - 4s 107ms/step - loss: 0.0020\n",
      "Epoch 68/100\n",
      "38/38 [==============================] - 4s 109ms/step - loss: 0.0019\n",
      "Epoch 69/100\n",
      "38/38 [==============================] - 4s 108ms/step - loss: 0.0019\n",
      "Epoch 70/100\n",
      "38/38 [==============================] - 4s 108ms/step - loss: 0.0018\n",
      "Epoch 71/100\n",
      "38/38 [==============================] - 4s 110ms/step - loss: 0.0017\n",
      "Epoch 72/100\n",
      "38/38 [==============================] - 4s 108ms/step - loss: 0.0017\n",
      "Epoch 73/100\n",
      "38/38 [==============================] - 5s 120ms/step - loss: 0.0018\n",
      "Epoch 74/100\n",
      "38/38 [==============================] - 5s 134ms/step - loss: 0.0016\n",
      "Epoch 75/100\n",
      "38/38 [==============================] - 4s 118ms/step - loss: 0.0016\n",
      "Epoch 76/100\n",
      "38/38 [==============================] - 5s 142ms/step - loss: 0.0016\n",
      "Epoch 77/100\n",
      "38/38 [==============================] - 4s 117ms/step - loss: 0.0017\n",
      "Epoch 78/100\n",
      "38/38 [==============================] - 4s 107ms/step - loss: 0.0021\n",
      "Epoch 79/100\n",
      "38/38 [==============================] - 4s 115ms/step - loss: 0.0017\n",
      "Epoch 80/100\n",
      "38/38 [==============================] - 4s 106ms/step - loss: 0.0021\n",
      "Epoch 81/100\n",
      "38/38 [==============================] - 4s 106ms/step - loss: 0.0017\n",
      "Epoch 82/100\n",
      "38/38 [==============================] - 4s 106ms/step - loss: 0.0016\n",
      "Epoch 83/100\n",
      "38/38 [==============================] - 4s 106ms/step - loss: 0.0016\n",
      "Epoch 84/100\n",
      "38/38 [==============================] - 4s 106ms/step - loss: 0.0017\n",
      "Epoch 85/100\n",
      "38/38 [==============================] - 4s 107ms/step - loss: 0.0018\n",
      "Epoch 86/100\n",
      "38/38 [==============================] - 4s 113ms/step - loss: 0.0017\n",
      "Epoch 87/100\n",
      "38/38 [==============================] - 4s 108ms/step - loss: 0.0016\n",
      "Epoch 88/100\n",
      "38/38 [==============================] - 4s 107ms/step - loss: 0.0015\n",
      "Epoch 89/100\n",
      "38/38 [==============================] - 4s 107ms/step - loss: 0.0016\n",
      "Epoch 90/100\n",
      "38/38 [==============================] - 4s 106ms/step - loss: 0.0018\n",
      "Epoch 91/100\n",
      "38/38 [==============================] - 4s 106ms/step - loss: 0.0015\n",
      "Epoch 92/100\n",
      "38/38 [==============================] - 4s 106ms/step - loss: 0.0014\n",
      "Epoch 93/100\n",
      "38/38 [==============================] - 4s 106ms/step - loss: 0.0015\n",
      "Epoch 94/100\n",
      "38/38 [==============================] - 4s 106ms/step - loss: 0.0015\n",
      "Epoch 95/100\n",
      "38/38 [==============================] - 4s 106ms/step - loss: 0.0015\n",
      "Epoch 96/100\n",
      "38/38 [==============================] - 4s 108ms/step - loss: 0.0015\n",
      "Epoch 97/100\n",
      "38/38 [==============================] - 4s 109ms/step - loss: 0.0014\n",
      "Epoch 98/100\n",
      "38/38 [==============================] - 4s 115ms/step - loss: 0.0015\n",
      "Epoch 99/100\n"
     ]
    },
    {
     "name": "stdout",
     "output_type": "stream",
     "text": [
      "38/38 [==============================] - 4s 107ms/step - loss: 0.0014\n",
      "Epoch 100/100\n",
      "38/38 [==============================] - 4s 108ms/step - loss: 0.0014\n"
     ]
    },
    {
     "data": {
      "text/plain": [
       "<tensorflow.python.keras.callbacks.History at 0x23b5740eee0>"
      ]
     },
     "execution_count": 14,
     "metadata": {},
     "output_type": "execute_result"
    }
   ],
   "source": [
    "#Fitting the RNN. Usually cry at this point due to my PC\n",
    "regressor.fit(X_train,y_train,batch_size=32,epochs=100)"
   ]
  },
  {
   "cell_type": "code",
   "execution_count": 16,
   "metadata": {},
   "outputs": [],
   "source": [
    "#Getting the test set\n",
    "dataset_test = pd.read_csv('Google_Stock_Price_Test.csv')\n",
    "real_stock_price = dataset_test.iloc[:, 1:2].values"
   ]
  },
  {
   "cell_type": "code",
   "execution_count": null,
   "metadata": {},
   "outputs": [],
   "source": [
    "#Getting predicted stock price\n",
    "dataset_total = pd.concat((dataset_train['Open'],dataset_test['Open']), axis=0)\n",
    "inputs = dataset_total[len(dataset_total) - len(dataset_test) -60:].values\n",
    "inputs = inputs.reshape(-1,1)\n",
    "inputs = sc.transform(inputs)"
   ]
  },
  {
   "cell_type": "code",
   "execution_count": null,
   "metadata": {},
   "outputs": [],
   "source": []
  }
 ],
 "metadata": {
  "kernelspec": {
   "display_name": "Python 3",
   "language": "python",
   "name": "python3"
  },
  "language_info": {
   "codemirror_mode": {
    "name": "ipython",
    "version": 3
   },
   "file_extension": ".py",
   "mimetype": "text/x-python",
   "name": "python",
   "nbconvert_exporter": "python",
   "pygments_lexer": "ipython3",
   "version": "3.8.0"
  }
 },
 "nbformat": 4,
 "nbformat_minor": 4
}
