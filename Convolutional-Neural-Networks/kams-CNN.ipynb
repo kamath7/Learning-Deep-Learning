{
 "cells": [
  {
   "cell_type": "code",
   "execution_count": 1,
   "metadata": {},
   "outputs": [],
   "source": [
    "import tensorflow as tf\n",
    "import pandas as pd\n",
    "import numpy as np\n",
    "import os\n",
    "from keras.preprocessing.image import ImageDataGenerator\n",
    "os.environ['CUDA_VISIBLE_DEVICES'] = '-1'"
   ]
  },
  {
   "cell_type": "code",
   "execution_count": 2,
   "metadata": {},
   "outputs": [
    {
     "data": {
      "text/plain": [
       "'2.2.0'"
      ]
     },
     "execution_count": 2,
     "metadata": {},
     "output_type": "execute_result"
    }
   ],
   "source": [
    "tf.__version__"
   ]
  },
  {
   "cell_type": "code",
   "execution_count": 3,
   "metadata": {},
   "outputs": [],
   "source": [
    "#Applying geometrical transformations. Series of transformations are applied here.Image augmentation done\n",
    "train_datagen = ImageDataGenerator(\n",
    "rescale =1./255,\n",
    "shear_range=0.2,\n",
    "zoom_range=0.2,\n",
    "horizontal_flip=True) #rescale - Feature scaling"
   ]
  },
  {
   "cell_type": "code",
   "execution_count": 4,
   "metadata": {},
   "outputs": [
    {
     "name": "stdout",
     "output_type": "stream",
     "text": [
      "Found 8000 images belonging to 2 classes.\n"
     ]
    }
   ],
   "source": [
    "training_set = train_datagen.flow_from_directory('./dataset/training_set/',target_size=(64,64), batch_size=32, class_mode='binary')#creating the training set"
   ]
  },
  {
   "cell_type": "code",
   "execution_count": 5,
   "metadata": {},
   "outputs": [
    {
     "name": "stdout",
     "output_type": "stream",
     "text": [
      "Found 2000 images belonging to 2 classes.\n"
     ]
    }
   ],
   "source": [
    "#similar to transform in test set\n",
    "test_datagen = ImageDataGenerator(rescale=1./255)\n",
    "test_set = test_datagen.flow_from_directory('./dataset/test_set/',target_size=(64,64), batch_size=32, class_mode='binary')"
   ]
  },
  {
   "cell_type": "code",
   "execution_count": 6,
   "metadata": {},
   "outputs": [],
   "source": [
    "#Building our CNN"
   ]
  },
  {
   "cell_type": "code",
   "execution_count": 7,
   "metadata": {},
   "outputs": [],
   "source": [
    "#Initialising the CNN\n",
    "cnn = tf.keras.models.Sequential()\n"
   ]
  },
  {
   "cell_type": "code",
   "execution_count": 8,
   "metadata": {},
   "outputs": [],
   "source": [
    "#Convolutional Layer\n",
    "cnn.add(tf.keras.layers.Conv2D(filters=32, kernel_size=3,activation='relu', input_shape=[64,64,3]))#parameters -> Filters(Kernels),kernel_size(size of the feature detector (2*2, 3*3)), activation func (Relu), Input shape-> as above + 3 for indicating RGB. for b*w it would be 1\n"
   ]
  },
  {
   "cell_type": "code",
   "execution_count": 9,
   "metadata": {},
   "outputs": [],
   "source": [
    "#Pooling layer\n",
    "#Max Pooling to be applied\n",
    "cnn.add(tf.keras.layers.MaxPool2D(pool_size=2, strides=2)) "
   ]
  },
  {
   "cell_type": "code",
   "execution_count": 10,
   "metadata": {},
   "outputs": [],
   "source": [
    "#Adding second convolutional layer\n",
    "cnn.add(tf.keras.layers.Conv2D(filters=32, kernel_size=3,activation='relu')) #input layer need not be entered here since we have already added it\n",
    "cnn.add(tf.keras.layers.MaxPool2D(pool_size=2, strides=2)) "
   ]
  },
  {
   "cell_type": "code",
   "execution_count": 11,
   "metadata": {},
   "outputs": [],
   "source": [
    "#Flattening\n",
    "cnn.add(tf.keras.layers.Flatten())"
   ]
  },
  {
   "cell_type": "code",
   "execution_count": 12,
   "metadata": {},
   "outputs": [],
   "source": [
    "#Fully connected layer\n",
    "cnn.add(tf.keras.layers.Dense(units=128, activation='relu'))"
   ]
  },
  {
   "cell_type": "code",
   "execution_count": 13,
   "metadata": {},
   "outputs": [],
   "source": [
    "#Output Layer\n",
    "cnn.add(tf.keras.layers.Dense(units=1, activation='sigmoid')) # units 1 since binary output"
   ]
  },
  {
   "cell_type": "code",
   "execution_count": 14,
   "metadata": {},
   "outputs": [],
   "source": [
    "#Compilation\n",
    "cnn.compile(optimizer='adam',loss='binary_crossentropy',metrics=['accuracy'])"
   ]
  },
  {
   "cell_type": "code",
   "execution_count": 15,
   "metadata": {},
   "outputs": [
    {
     "name": "stdout",
     "output_type": "stream",
     "text": [
      "Epoch 1/31\n",
      "250/250 [==============================] - 351s 1s/step - loss: 0.6714 - accuracy: 0.5865 - val_loss: 0.6091 - val_accuracy: 0.6560\n",
      "Epoch 2/31\n",
      "250/250 [==============================] - 54s 215ms/step - loss: 0.6027 - accuracy: 0.6754 - val_loss: 0.5671 - val_accuracy: 0.7225\n",
      "Epoch 3/31\n",
      "250/250 [==============================] - 56s 225ms/step - loss: 0.5722 - accuracy: 0.7031 - val_loss: 0.5342 - val_accuracy: 0.7305\n",
      "Epoch 4/31\n",
      "250/250 [==============================] - 56s 223ms/step - loss: 0.5357 - accuracy: 0.7349 - val_loss: 0.5292 - val_accuracy: 0.7355\n",
      "Epoch 5/31\n",
      "250/250 [==============================] - 55s 222ms/step - loss: 0.5101 - accuracy: 0.7513 - val_loss: 0.5039 - val_accuracy: 0.7595\n",
      "Epoch 6/31\n",
      "250/250 [==============================] - 62s 247ms/step - loss: 0.4875 - accuracy: 0.7650 - val_loss: 0.4854 - val_accuracy: 0.7760\n",
      "Epoch 7/31\n",
      "250/250 [==============================] - 65s 258ms/step - loss: 0.4684 - accuracy: 0.7805 - val_loss: 0.5624 - val_accuracy: 0.7185\n",
      "Epoch 8/31\n",
      "250/250 [==============================] - 74s 295ms/step - loss: 0.4537 - accuracy: 0.7851 - val_loss: 0.4717 - val_accuracy: 0.7840\n",
      "Epoch 9/31\n",
      "250/250 [==============================] - 65s 260ms/step - loss: 0.4461 - accuracy: 0.7910 - val_loss: 0.5265 - val_accuracy: 0.7425\n",
      "Epoch 10/31\n",
      "250/250 [==============================] - 63s 250ms/step - loss: 0.4309 - accuracy: 0.8001 - val_loss: 0.4693 - val_accuracy: 0.7955\n",
      "Epoch 11/31\n",
      "250/250 [==============================] - 60s 241ms/step - loss: 0.4182 - accuracy: 0.8065 - val_loss: 0.4706 - val_accuracy: 0.7825\n",
      "Epoch 12/31\n",
      "250/250 [==============================] - 69s 276ms/step - loss: 0.4060 - accuracy: 0.8092 - val_loss: 0.4706 - val_accuracy: 0.7820\n",
      "Epoch 13/31\n",
      "250/250 [==============================] - 85s 339ms/step - loss: 0.3984 - accuracy: 0.8184 - val_loss: 0.4548 - val_accuracy: 0.8005\n",
      "Epoch 14/31\n",
      "250/250 [==============================] - 68s 271ms/step - loss: 0.3813 - accuracy: 0.8271 - val_loss: 0.4746 - val_accuracy: 0.7920\n",
      "Epoch 15/31\n",
      "250/250 [==============================] - 64s 256ms/step - loss: 0.3702 - accuracy: 0.8298 - val_loss: 0.5164 - val_accuracy: 0.7735\n",
      "Epoch 16/31\n",
      "250/250 [==============================] - 64s 256ms/step - loss: 0.3579 - accuracy: 0.8395 - val_loss: 0.4754 - val_accuracy: 0.7900\n",
      "Epoch 17/31\n",
      "250/250 [==============================] - 67s 268ms/step - loss: 0.3514 - accuracy: 0.8434 - val_loss: 0.4602 - val_accuracy: 0.7990\n",
      "Epoch 18/31\n",
      "250/250 [==============================] - 69s 274ms/step - loss: 0.3421 - accuracy: 0.8464 - val_loss: 0.5037 - val_accuracy: 0.7710\n",
      "Epoch 19/31\n",
      "250/250 [==============================] - 66s 265ms/step - loss: 0.3232 - accuracy: 0.8611 - val_loss: 0.4785 - val_accuracy: 0.7925\n",
      "Epoch 20/31\n",
      "250/250 [==============================] - 69s 277ms/step - loss: 0.3105 - accuracy: 0.8665 - val_loss: 0.4730 - val_accuracy: 0.7915\n",
      "Epoch 21/31\n",
      "250/250 [==============================] - 64s 257ms/step - loss: 0.2986 - accuracy: 0.8665 - val_loss: 0.4690 - val_accuracy: 0.8025\n",
      "Epoch 22/31\n",
      "250/250 [==============================] - 71s 286ms/step - loss: 0.2922 - accuracy: 0.8719 - val_loss: 0.5014 - val_accuracy: 0.7860\n",
      "Epoch 23/31\n",
      "250/250 [==============================] - 79s 317ms/step - loss: 0.2822 - accuracy: 0.8792 - val_loss: 0.5304 - val_accuracy: 0.7890\n",
      "Epoch 24/31\n",
      "250/250 [==============================] - 90s 359ms/step - loss: 0.2570 - accuracy: 0.8906 - val_loss: 0.4683 - val_accuracy: 0.8020\n",
      "Epoch 25/31\n",
      "250/250 [==============================] - 80s 321ms/step - loss: 0.2429 - accuracy: 0.8967 - val_loss: 0.5087 - val_accuracy: 0.8100\n",
      "Epoch 26/31\n",
      "250/250 [==============================] - 83s 333ms/step - loss: 0.2409 - accuracy: 0.8989 - val_loss: 0.5362 - val_accuracy: 0.8005\n",
      "Epoch 27/31\n",
      "250/250 [==============================] - 82s 328ms/step - loss: 0.2292 - accuracy: 0.9038 - val_loss: 0.5303 - val_accuracy: 0.7985\n",
      "Epoch 28/31\n",
      "250/250 [==============================] - 70s 280ms/step - loss: 0.2125 - accuracy: 0.9109 - val_loss: 0.5831 - val_accuracy: 0.7940\n",
      "Epoch 29/31\n",
      "250/250 [==============================] - 67s 267ms/step - loss: 0.2073 - accuracy: 0.9153 - val_loss: 0.5388 - val_accuracy: 0.8070\n",
      "Epoch 30/31\n",
      "250/250 [==============================] - 69s 276ms/step - loss: 0.1951 - accuracy: 0.9214 - val_loss: 0.5547 - val_accuracy: 0.7955\n",
      "Epoch 31/31\n",
      "250/250 [==============================] - 65s 260ms/step - loss: 0.1999 - accuracy: 0.9183 - val_loss: 0.5350 - val_accuracy: 0.8010\n"
     ]
    },
    {
     "data": {
      "text/plain": [
       "<tensorflow.python.keras.callbacks.History at 0x169ba26e4f0>"
      ]
     },
     "execution_count": 15,
     "metadata": {},
     "output_type": "execute_result"
    }
   ],
   "source": [
    "#training the model\n",
    "\n",
    "cnn.fit(x=training_set, validation_data=test_set, epochs=31)"
   ]
  },
  {
   "cell_type": "code",
   "execution_count": 16,
   "metadata": {},
   "outputs": [],
   "source": [
    "tf.keras.models.save_model(cnn,filepath='./cnn-model-1.h5',include_optimizer=True, save_format='h5')"
   ]
  },
  {
   "cell_type": "code",
   "execution_count": null,
   "metadata": {},
   "outputs": [],
   "source": []
  }
 ],
 "metadata": {
  "kernelspec": {
   "display_name": "Python 3",
   "language": "python",
   "name": "python3"
  },
  "language_info": {
   "codemirror_mode": {
    "name": "ipython",
    "version": 3
   },
   "file_extension": ".py",
   "mimetype": "text/x-python",
   "name": "python",
   "nbconvert_exporter": "python",
   "pygments_lexer": "ipython3",
   "version": "3.8.0"
  }
 },
 "nbformat": 4,
 "nbformat_minor": 4
}
