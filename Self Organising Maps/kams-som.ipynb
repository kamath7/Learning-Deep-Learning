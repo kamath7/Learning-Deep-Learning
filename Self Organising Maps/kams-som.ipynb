{
 "cells": [
  {
   "cell_type": "code",
   "execution_count": 1,
   "metadata": {},
   "outputs": [],
   "source": [
    "import pandas as pd\n",
    "import matplotlib.pyplot as plt\n",
    "import numpy as np"
   ]
  },
  {
   "cell_type": "code",
   "execution_count": 2,
   "metadata": {},
   "outputs": [],
   "source": [
    "dataset = pd.read_csv('Credit_Card_Applications.csv')"
   ]
  },
  {
   "cell_type": "code",
   "execution_count": 3,
   "metadata": {},
   "outputs": [],
   "source": [
    "X = dataset.iloc[:,:-1].values\n",
    "y = dataset.iloc[:,-1].values"
   ]
  },
  {
   "cell_type": "code",
   "execution_count": 4,
   "metadata": {},
   "outputs": [],
   "source": [
    "# Feature scaling\n",
    "from sklearn.preprocessing import MinMaxScaler\n",
    "sc = MinMaxScaler(feature_range=(0,1)) #normalisation\n",
    "X = sc.fit_transform(X)"
   ]
  },
  {
   "cell_type": "code",
   "execution_count": 6,
   "metadata": {},
   "outputs": [],
   "source": [
    "from minisom import MiniSom"
   ]
  },
  {
   "cell_type": "code",
   "execution_count": 7,
   "metadata": {},
   "outputs": [],
   "source": [
    "som = MiniSom(x=10, y=10, input_len = 15, sigma = 1.0 , learning_rate=0.5)"
   ]
  },
  {
   "cell_type": "code",
   "execution_count": 9,
   "metadata": {},
   "outputs": [],
   "source": [
    "#training SOM \n",
    "som.random_weights_init(X)\n",
    "som.train_random(data = X , num_iteration = 100)"
   ]
  },
  {
   "cell_type": "code",
   "execution_count": 10,
   "metadata": {},
   "outputs": [],
   "source": [
    "#getting the results\n",
    "from pylab import bone, pcolor, colorbar, plot, show"
   ]
  },
  {
   "cell_type": "code",
   "execution_count": 14,
   "metadata": {},
   "outputs": [
    {
     "data": {
      "image/png": "[encoded data removed]",
      "text/plain": [
       "<Figure size 432x288 with 2 Axes>"
      ]
     },
     "metadata": {
      "needs_background": "light"
     },
     "output_type": "display_data"
    }
   ],
   "source": [
    "bone()\n",
    "pcolor(som.distance_map().T)\n",
    "colorbar()\n",
    "markers = ['o','s']\n",
    "colors = ['r','g']\n",
    "for i,x in enumerate(X):\n",
    "    w = som.winner(x)\n",
    "    plot(w[0]+0.5,w[1]+0.5,markers[y[i]], markeredgecolor = colors[y[i]],markerfacecolor=None, markersize=10,markeredgewidth=2)\n",
    "show()    "
   ]
  },
  {
   "cell_type": "code",
   "execution_count": 20,
   "metadata": {},
   "outputs": [],
   "source": [
    "#Identifying frauds\n",
    "\n",
    "mappings = som.win_map(X)\n",
    "frauds = np.concatenate((mappings[(8,1)],mappings[(6,0)]),axis = 0 )"
   ]
  },
  {
   "cell_type": "code",
   "execution_count": 21,
   "metadata": {},
   "outputs": [],
   "source": [
    "frauds = sc.inverse_transform(frauds)"
   ]
  },
  {
   "cell_type": "code",
   "execution_count": 22,
   "metadata": {},
   "outputs": [
    {
     "data": {
      "text/plain": [
       "array([[1.5605791e+07, 1.0000000e+00, 1.9500000e+01, 9.5850000e+00,\n",
       "        2.0000000e+00, 6.0000000e+00, 4.0000000e+00, 7.9000000e-01,\n",
       "        0.0000000e+00, 0.0000000e+00, 0.0000000e+00, 0.0000000e+00,\n",
       "        2.0000000e+00, 8.0000000e+01, 3.5100000e+02],\n",
       "       [1.5571415e+07, 1.0000000e+00, 3.7580000e+01, 0.0000000e+00,\n",
       "        2.0000000e+00, 8.0000000e+00, 4.0000000e+00, 0.0000000e+00,\n",
       "        0.0000000e+00, 0.0000000e+00, 0.0000000e+00, 0.0000000e+00,\n",
       "        3.0000000e+00, 1.8400000e+02, 1.0000000e+00],\n",
       "       [1.5565714e+07, 1.0000000e+00, 4.2750000e+01, 4.0850000e+00,\n",
       "        2.0000000e+00, 6.0000000e+00, 4.0000000e+00, 4.0000000e-02,\n",
       "        0.0000000e+00, 0.0000000e+00, 0.0000000e+00, 0.0000000e+00,\n",
       "        2.0000000e+00, 1.0800000e+02, 1.0100000e+02],\n",
       "       [1.5608688e+07, 1.0000000e+00, 1.5170000e+01, 7.0000000e+00,\n",
       "        2.0000000e+00, 1.0000000e+01, 4.0000000e+00, 1.0000000e+00,\n",
       "        0.0000000e+00, 0.0000000e+00, 0.0000000e+00, 0.0000000e+00,\n",
       "        2.0000000e+00, 6.0000000e+02, 1.0000000e+00],\n",
       "       [1.5609070e+07, 1.0000000e+00, 1.8000000e+01, 1.6500000e-01,\n",
       "        2.0000000e+00, 1.1000000e+01, 7.0000000e+00, 2.1000000e-01,\n",
       "        0.0000000e+00, 0.0000000e+00, 0.0000000e+00, 0.0000000e+00,\n",
       "        2.0000000e+00, 2.0000000e+02, 4.1000000e+01],\n",
       "       [1.5565996e+07, 1.0000000e+00, 2.6250000e+01, 1.5400000e+00,\n",
       "        2.0000000e+00, 9.0000000e+00, 4.0000000e+00, 1.2500000e-01,\n",
       "        0.0000000e+00, 0.0000000e+00, 0.0000000e+00, 0.0000000e+00,\n",
       "        2.0000000e+00, 1.0000000e+02, 1.0000000e+00],\n",
       "       [1.5644400e+07, 1.0000000e+00, 3.4580000e+01, 0.0000000e+00,\n",
       "        2.0000000e+00, 8.0000000e+00, 4.0000000e+00, 0.0000000e+00,\n",
       "        0.0000000e+00, 0.0000000e+00, 0.0000000e+00, 0.0000000e+00,\n",
       "        3.0000000e+00, 1.8400000e+02, 1.0000000e+00],\n",
       "       [1.5581871e+07, 1.0000000e+00, 1.6500000e+01, 1.2500000e-01,\n",
       "        2.0000000e+00, 8.0000000e+00, 4.0000000e+00, 1.6500000e-01,\n",
       "        0.0000000e+00, 0.0000000e+00, 0.0000000e+00, 0.0000000e+00,\n",
       "        2.0000000e+00, 1.3200000e+02, 1.0000000e+00],\n",
       "       [1.5617065e+07, 1.0000000e+00, 2.2170000e+01, 2.2500000e+00,\n",
       "        2.0000000e+00, 3.0000000e+00, 4.0000000e+00, 1.2500000e-01,\n",
       "        0.0000000e+00, 0.0000000e+00, 0.0000000e+00, 0.0000000e+00,\n",
       "        2.0000000e+00, 1.6000000e+02, 1.1000000e+01],\n",
       "       [1.5624850e+07, 1.0000000e+00, 5.0750000e+01, 5.8500000e-01,\n",
       "        2.0000000e+00, 1.0000000e+00, 1.0000000e+00, 0.0000000e+00,\n",
       "        0.0000000e+00, 0.0000000e+00, 0.0000000e+00, 0.0000000e+00,\n",
       "        2.0000000e+00, 1.4500000e+02, 1.0000000e+00],\n",
       "       [1.5632275e+07, 1.0000000e+00, 2.2750000e+01, 1.1500000e+01,\n",
       "        2.0000000e+00, 3.0000000e+00, 4.0000000e+00, 4.1500000e-01,\n",
       "        0.0000000e+00, 0.0000000e+00, 0.0000000e+00, 0.0000000e+00,\n",
       "        2.0000000e+00, 0.0000000e+00, 1.0000000e+00],\n",
       "       [1.5620103e+07, 1.0000000e+00, 2.1920000e+01, 5.0000000e-01,\n",
       "        2.0000000e+00, 8.0000000e+00, 4.0000000e+00, 1.2500000e-01,\n",
       "        0.0000000e+00, 0.0000000e+00, 0.0000000e+00, 0.0000000e+00,\n",
       "        2.0000000e+00, 3.6000000e+02, 1.0000000e+00],\n",
       "       [1.5615176e+07, 1.0000000e+00, 4.9170000e+01, 2.2900000e+00,\n",
       "        2.0000000e+00, 1.0000000e+00, 1.0000000e+00, 2.9000000e-01,\n",
       "        0.0000000e+00, 0.0000000e+00, 0.0000000e+00, 0.0000000e+00,\n",
       "        2.0000000e+00, 2.0000000e+02, 4.0000000e+00],\n",
       "       [1.5588019e+07, 1.0000000e+00, 4.7170000e+01, 5.8350000e+00,\n",
       "        2.0000000e+00, 9.0000000e+00, 4.0000000e+00, 5.5000000e+00,\n",
       "        0.0000000e+00, 0.0000000e+00, 0.0000000e+00, 0.0000000e+00,\n",
       "        2.0000000e+00, 4.6500000e+02, 1.5100000e+02],\n",
       "       [1.5575146e+07, 1.0000000e+00, 3.9500000e+01, 1.6250000e+00,\n",
       "        2.0000000e+00, 8.0000000e+00, 4.0000000e+00, 1.5000000e+00,\n",
       "        0.0000000e+00, 0.0000000e+00, 0.0000000e+00, 0.0000000e+00,\n",
       "        2.0000000e+00, 0.0000000e+00, 3.1700000e+02],\n",
       "       [1.5611794e+07, 1.0000000e+00, 1.7670000e+01, 4.4600000e+00,\n",
       "        2.0000000e+00, 8.0000000e+00, 4.0000000e+00, 2.5000000e-01,\n",
       "        0.0000000e+00, 0.0000000e+00, 0.0000000e+00, 0.0000000e+00,\n",
       "        1.0000000e+00, 8.0000000e+01, 1.0000000e+00],\n",
       "       [1.5627699e+07, 1.0000000e+00, 2.2670000e+01, 1.5850000e+00,\n",
       "        1.0000000e+00, 9.0000000e+00, 4.0000000e+00, 3.0850000e+00,\n",
       "        1.0000000e+00, 1.0000000e+00, 6.0000000e+00, 0.0000000e+00,\n",
       "        2.0000000e+00, 8.0000000e+01, 1.0000000e+00],\n",
       "       [1.5585192e+07, 1.0000000e+00, 3.0830000e+01, 0.0000000e+00,\n",
       "        2.0000000e+00, 9.0000000e+00, 4.0000000e+00, 1.2500000e+00,\n",
       "        1.0000000e+00, 1.0000000e+00, 1.0000000e+00, 0.0000000e+00,\n",
       "        2.0000000e+00, 2.0200000e+02, 1.0000000e+00],\n",
       "       [1.5591552e+07, 1.0000000e+00, 3.5170000e+01, 2.5000000e+00,\n",
       "        2.0000000e+00, 4.0000000e+00, 4.0000000e+00, 4.5000000e+00,\n",
       "        1.0000000e+00, 1.0000000e+00, 7.0000000e+00, 0.0000000e+00,\n",
       "        2.0000000e+00, 1.5000000e+02, 1.2710000e+03],\n",
       "       [1.5622729e+07, 1.0000000e+00, 3.6330000e+01, 2.1250000e+00,\n",
       "        1.0000000e+00, 9.0000000e+00, 4.0000000e+00, 8.5000000e-02,\n",
       "        1.0000000e+00, 1.0000000e+00, 1.0000000e+00, 0.0000000e+00,\n",
       "        2.0000000e+00, 5.0000000e+01, 1.1880000e+03],\n",
       "       [1.5598266e+07, 1.0000000e+00, 3.1670000e+01, 1.6165000e+01,\n",
       "        2.0000000e+00, 2.0000000e+00, 4.0000000e+00, 3.0000000e+00,\n",
       "        1.0000000e+00, 1.0000000e+00, 9.0000000e+00, 0.0000000e+00,\n",
       "        2.0000000e+00, 2.5000000e+02, 7.3100000e+02],\n",
       "       [1.5593694e+07, 1.0000000e+00, 5.5920000e+01, 1.1500000e+01,\n",
       "        2.0000000e+00, 1.0000000e+00, 1.0000000e+00, 5.0000000e+00,\n",
       "        1.0000000e+00, 1.0000000e+00, 5.0000000e+00, 0.0000000e+00,\n",
       "        2.0000000e+00, 0.0000000e+00, 8.8520000e+03],\n",
       "       [1.5568819e+07, 1.0000000e+00, 3.1330000e+01, 1.9500000e+01,\n",
       "        2.0000000e+00, 8.0000000e+00, 4.0000000e+00, 7.0000000e+00,\n",
       "        1.0000000e+00, 1.0000000e+00, 1.6000000e+01, 0.0000000e+00,\n",
       "        2.0000000e+00, 0.0000000e+00, 5.0010000e+03],\n",
       "       [1.5571571e+07, 1.0000000e+00, 3.9170000e+01, 1.6250000e+00,\n",
       "        2.0000000e+00, 8.0000000e+00, 4.0000000e+00, 1.5000000e+00,\n",
       "        1.0000000e+00, 1.0000000e+00, 1.0000000e+01, 0.0000000e+00,\n",
       "        2.0000000e+00, 1.8600000e+02, 4.7010000e+03],\n",
       "       [1.5598586e+07, 1.0000000e+00, 2.6670000e+01, 2.7100000e+00,\n",
       "        1.0000000e+00, 1.3000000e+01, 4.0000000e+00, 5.2500000e+00,\n",
       "        1.0000000e+00, 1.0000000e+00, 1.0000000e+00, 0.0000000e+00,\n",
       "        2.0000000e+00, 2.1100000e+02, 1.0000000e+00]])"
      ]
     },
     "execution_count": 22,
     "metadata": {},
     "output_type": "execute_result"
    }
   ],
   "source": [
    "frauds"
   ]
  },
  {
   "cell_type": "code",
   "execution_count": null,
   "metadata": {},
   "outputs": [],
   "source": []
  }
 ],
 "metadata": {
  "kernelspec": {
   "display_name": "Python 3",
   "language": "python",
   "name": "python3"
  },
  "language_info": {
   "codemirror_mode": {
    "name": "ipython",
    "version": 3
   },
   "file_extension": ".py",
   "mimetype": "text/x-python",
   "name": "python",
   "nbconvert_exporter": "python",
   "pygments_lexer": "ipython3",
   "version": "3.8.0"
  }
 },
 "nbformat": 4,
 "nbformat_minor": 4
}
